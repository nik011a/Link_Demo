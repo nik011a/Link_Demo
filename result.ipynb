{
 "cells": [
  {
   "cell_type": "code",
   "execution_count": 7,
   "id": "36bb14de-ec3b-44c7-b541-b42179b6d16b",
   "metadata": {},
   "outputs": [
    {
     "name": "stderr",
     "output_type": "stream",
     "text": [
      "[nltk_data] Downloading package stopwords to C:\\Users\\MY\n",
      "[nltk_data]     COMPUTER\\AppData\\Roaming\\nltk_data...\n",
      "[nltk_data]   Package stopwords is already up-to-date!\n"
     ]
    }
   ],
   "source": [
    "#!pip install nltk\n",
    "#!pip install spacy\n",
    "#!python -m spacy download en_core_web_sm\n",
    "#!pip install tqdm\n",
    "\n",
    "import nltk\n",
    "from nltk.corpus import wordnet, stopwords\n",
    "from nltk.tokenize import word_tokenize\n",
    "from nltk.stem import WordNetLemmatizer\n",
    "from tqdm.notebook import tqdm\n",
    "import pandas as pd\n",
    "import spacy\n",
    "import re\n",
    "import joblib\n",
    "data2 = joblib.load(\"finals.joblib\")\n",
    "\n",
    "import joblib\n",
    "import numpy as np\n",
    "data = joblib.load(\"my_vars.joblib\")\n",
    "nltk.download('stopwords')\n",
    "nlp = spacy.load(\"en_core_web_sm\")\n",
    "stop_words = set(stopwords.words('english'))\n",
    "#made functions so i wouldnt have to run them again each time\n",
    "def remove_stopwords(sentence):\n",
    "    words = sentence.split()\n",
    "    filtered = [w for w in words if w not in stop_words]\n",
    "    return \" \".join(filtered)\n",
    "    \n",
    "def lemmatize_texts(texts, batch_size=50):\n",
    "    lemmatized_texts = []\n",
    "    for doc in tqdm(nlp.pipe(texts, batch_size=batch_size), total=len(texts)):\n",
    "        lemmatized_texts.append(\" \".join([token.lemma_ for token in doc]))\n",
    "    return lemmatized_texts"
   ]
  },
  {
   "cell_type": "code",
   "execution_count": 24,
   "id": "148ac515-9275-4e9d-95aa-b48e5c4e0d13",
   "metadata": {},
   "outputs": [
    {
     "name": "stdout",
     "output_type": "stream",
     "text": [
      "Keys in joblib file: ['forest', 'svm', 'tfidf_vectorizer']\n"
     ]
    },
    {
     "name": "stdin",
     "output_type": "stream",
     "text": [
      "Enter your text:   wall st. bears claw back into the black (reuters) reuters - short-sellers, wall street's dwindling\\band of ultra-cynics, are seeing green again.   \n"
     ]
    },
    {
     "data": {
      "application/vnd.jupyter.widget-view+json": {
       "model_id": "f66d1984fdf442d5a303754812b25934",
       "version_major": 2,
       "version_minor": 0
      },
      "text/plain": [
       "  0%|          | 0/1 [00:00<?, ?it/s]"
      ]
     },
     "metadata": {},
     "output_type": "display_data"
    },
    {
     "name": "stdout",
     "output_type": "stream",
     "text": [
      "Predicted class: 2\n"
     ]
    }
   ],
   "source": [
    "from sklearn.ensemble import RandomForestClassifier\n",
    "from sklearn.metrics import classification_report, accuracy_score\n",
    "from sklearn.svm import LinearSVC\n",
    "print(\"Keys in joblib file:\", list(data2.keys()))\n",
    "SF=data2[\"svm\"]\n",
    "input1= input(\"Enter your text: \")\n",
    "tfidf_vectorizer= data2[\"tfidf_vectorizer\"]\n",
    "df_input = pd.DataFrame({'text': [input1]})\n",
    "df = pd.DataFrame([input1], columns=['my_column'])\n",
    "df['my_column']=lemmatize_texts(df['my_column'].str.lower().replace(r'[^a-z\\s]', ' ', regex=True).apply(remove_stopwords))\n",
    "#input3=lemmatize_texts(df_input.str.lower().replace(r'[^a-z\\s]', ' ', regex=True).apply(remove_stopwords))\n",
    "test=tfidf_vectorizer.transform(df['my_column'])\n",
    "pred_class = SF.predict(test)\n",
    "#based on results evaluate if correct class\n",
    "#names=[0 'World', 1 'Sports', 2 'Business', 3  'Sci/Tech']\n",
    "print(\"Predicted class:\", pred_class[0])"
   ]
  }
 ],
 "metadata": {
  "kernelspec": {
   "display_name": "Python 3 (ipykernel)",
   "language": "python",
   "name": "python3"
  },
  "language_info": {
   "codemirror_mode": {
    "name": "ipython",
    "version": 3
   },
   "file_extension": ".py",
   "mimetype": "text/x-python",
   "name": "python",
   "nbconvert_exporter": "python",
   "pygments_lexer": "ipython3",
   "version": "3.10.16"
  }
 },
 "nbformat": 4,
 "nbformat_minor": 5
}
