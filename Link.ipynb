{
 "cells": [
  {
   "cell_type": "code",
   "execution_count": 1,
   "id": "6a6cecde-2b75-4ad1-9de7-7482d5f592b5",
   "metadata": {},
   "outputs": [
    {
     "name": "stdout",
     "output_type": "stream",
     "text": [
      "Requirement already satisfied: datasets in c:\\users\\my computer\\.conda\\envs\\myenv\\lib\\site-packages (4.1.1)\n",
      "Requirement already satisfied: filelock in c:\\users\\my computer\\.conda\\envs\\myenv\\lib\\site-packages (from datasets) (3.19.1)\n",
      "Requirement already satisfied: numpy>=1.17 in c:\\users\\my computer\\.conda\\envs\\myenv\\lib\\site-packages (from datasets) (2.1.3)\n",
      "Requirement already satisfied: pyarrow>=21.0.0 in c:\\users\\my computer\\.conda\\envs\\myenv\\lib\\site-packages (from datasets) (21.0.0)\n",
      "Requirement already satisfied: dill<0.4.1,>=0.3.0 in c:\\users\\my computer\\.conda\\envs\\myenv\\lib\\site-packages (from datasets) (0.4.0)\n",
      "Requirement already satisfied: pandas in c:\\users\\my computer\\.conda\\envs\\myenv\\lib\\site-packages (from datasets) (2.2.3)\n",
      "Requirement already satisfied: requests>=2.32.2 in c:\\users\\my computer\\.conda\\envs\\myenv\\lib\\site-packages (from datasets) (2.32.3)\n",
      "Requirement already satisfied: tqdm>=4.66.3 in c:\\users\\my computer\\.conda\\envs\\myenv\\lib\\site-packages (from datasets) (4.67.1)\n",
      "Requirement already satisfied: xxhash in c:\\users\\my computer\\.conda\\envs\\myenv\\lib\\site-packages (from datasets) (3.6.0)\n",
      "Requirement already satisfied: multiprocess<0.70.17 in c:\\users\\my computer\\.conda\\envs\\myenv\\lib\\site-packages (from datasets) (0.70.16)\n",
      "Requirement already satisfied: fsspec<=2025.9.0,>=2023.1.0 in c:\\users\\my computer\\.conda\\envs\\myenv\\lib\\site-packages (from fsspec[http]<=2025.9.0,>=2023.1.0->datasets) (2025.9.0)\n",
      "Requirement already satisfied: huggingface-hub>=0.24.0 in c:\\users\\my computer\\.conda\\envs\\myenv\\lib\\site-packages (from datasets) (0.35.3)\n",
      "Requirement already satisfied: packaging in c:\\users\\my computer\\.conda\\envs\\myenv\\lib\\site-packages (from datasets) (25.0)\n",
      "Requirement already satisfied: pyyaml>=5.1 in c:\\users\\my computer\\.conda\\envs\\myenv\\lib\\site-packages (from datasets) (6.0.2)\n",
      "Requirement already satisfied: aiohttp!=4.0.0a0,!=4.0.0a1 in c:\\users\\my computer\\.conda\\envs\\myenv\\lib\\site-packages (from fsspec[http]<=2025.9.0,>=2023.1.0->datasets) (3.12.15)\n",
      "Requirement already satisfied: aiohappyeyeballs>=2.5.0 in c:\\users\\my computer\\.conda\\envs\\myenv\\lib\\site-packages (from aiohttp!=4.0.0a0,!=4.0.0a1->fsspec[http]<=2025.9.0,>=2023.1.0->datasets) (2.6.1)\n",
      "Requirement already satisfied: aiosignal>=1.4.0 in c:\\users\\my computer\\.conda\\envs\\myenv\\lib\\site-packages (from aiohttp!=4.0.0a0,!=4.0.0a1->fsspec[http]<=2025.9.0,>=2023.1.0->datasets) (1.4.0)\n",
      "Requirement already satisfied: async-timeout<6.0,>=4.0 in c:\\users\\my computer\\.conda\\envs\\myenv\\lib\\site-packages (from aiohttp!=4.0.0a0,!=4.0.0a1->fsspec[http]<=2025.9.0,>=2023.1.0->datasets) (5.0.1)\n",
      "Requirement already satisfied: attrs>=17.3.0 in c:\\users\\my computer\\.conda\\envs\\myenv\\lib\\site-packages (from aiohttp!=4.0.0a0,!=4.0.0a1->fsspec[http]<=2025.9.0,>=2023.1.0->datasets) (25.3.0)\n",
      "Requirement already satisfied: frozenlist>=1.1.1 in c:\\users\\my computer\\.conda\\envs\\myenv\\lib\\site-packages (from aiohttp!=4.0.0a0,!=4.0.0a1->fsspec[http]<=2025.9.0,>=2023.1.0->datasets) (1.7.0)\n",
      "Requirement already satisfied: multidict<7.0,>=4.5 in c:\\users\\my computer\\.conda\\envs\\myenv\\lib\\site-packages (from aiohttp!=4.0.0a0,!=4.0.0a1->fsspec[http]<=2025.9.0,>=2023.1.0->datasets) (6.6.4)\n",
      "Requirement already satisfied: propcache>=0.2.0 in c:\\users\\my computer\\.conda\\envs\\myenv\\lib\\site-packages (from aiohttp!=4.0.0a0,!=4.0.0a1->fsspec[http]<=2025.9.0,>=2023.1.0->datasets) (0.3.2)\n",
      "Requirement already satisfied: yarl<2.0,>=1.17.0 in c:\\users\\my computer\\.conda\\envs\\myenv\\lib\\site-packages (from aiohttp!=4.0.0a0,!=4.0.0a1->fsspec[http]<=2025.9.0,>=2023.1.0->datasets) (1.20.1)\n",
      "Requirement already satisfied: typing-extensions>=4.1.0 in c:\\users\\my computer\\.conda\\envs\\myenv\\lib\\site-packages (from multidict<7.0,>=4.5->aiohttp!=4.0.0a0,!=4.0.0a1->fsspec[http]<=2025.9.0,>=2023.1.0->datasets) (4.13.2)\n",
      "Requirement already satisfied: idna>=2.0 in c:\\users\\my computer\\.conda\\envs\\myenv\\lib\\site-packages (from yarl<2.0,>=1.17.0->aiohttp!=4.0.0a0,!=4.0.0a1->fsspec[http]<=2025.9.0,>=2023.1.0->datasets) (3.10)\n",
      "Requirement already satisfied: charset-normalizer<4,>=2 in c:\\users\\my computer\\.conda\\envs\\myenv\\lib\\site-packages (from requests>=2.32.2->datasets) (3.4.2)\n",
      "Requirement already satisfied: urllib3<3,>=1.21.1 in c:\\users\\my computer\\.conda\\envs\\myenv\\lib\\site-packages (from requests>=2.32.2->datasets) (2.4.0)\n",
      "Requirement already satisfied: certifi>=2017.4.17 in c:\\users\\my computer\\.conda\\envs\\myenv\\lib\\site-packages (from requests>=2.32.2->datasets) (2025.4.26)\n",
      "Requirement already satisfied: colorama in c:\\users\\my computer\\.conda\\envs\\myenv\\lib\\site-packages (from tqdm>=4.66.3->datasets) (0.4.6)\n",
      "Requirement already satisfied: python-dateutil>=2.8.2 in c:\\users\\my computer\\.conda\\envs\\myenv\\lib\\site-packages (from pandas->datasets) (2.9.0.post0)\n",
      "Requirement already satisfied: pytz>=2020.1 in c:\\users\\my computer\\.conda\\envs\\myenv\\lib\\site-packages (from pandas->datasets) (2025.2)\n",
      "Requirement already satisfied: tzdata>=2022.7 in c:\\users\\my computer\\.conda\\envs\\myenv\\lib\\site-packages (from pandas->datasets) (2025.2)\n",
      "Requirement already satisfied: six>=1.5 in c:\\users\\my computer\\.conda\\envs\\myenv\\lib\\site-packages (from python-dateutil>=2.8.2->pandas->datasets) (1.17.0)\n",
      "DatasetDict({\n",
      "    train: Dataset({\n",
      "        features: ['text', 'label'],\n",
      "        num_rows: 120000\n",
      "    })\n",
      "    test: Dataset({\n",
      "        features: ['text', 'label'],\n",
      "        num_rows: 7600\n",
      "    })\n",
      "})\n",
      "{'text': \"Wall St. Bears Claw Back Into the Black (Reuters) Reuters - Short-sellers, Wall Street's dwindling\\\\band of ultra-cynics, are seeing green again.\", 'label': 2}\n"
     ]
    }
   ],
   "source": [
    "#if you dont have datasets installed do so with the following line\n",
    "#!pip install datasets\n",
    "from datasets import load_dataset\n",
    "\n",
    "# load AG News dataset\n",
    "dataset = load_dataset(\"ag_news\")\n",
    "\n",
    "# check available splits\n",
    "print(dataset)\n",
    "\n",
    "# take a look at one sample\n",
    "print(dataset[\"train\"][0])"
   ]
  },
  {
   "cell_type": "code",
   "execution_count": 2,
   "id": "f486500c-927c-4722-b9df-ba6ce49803a0",
   "metadata": {},
   "outputs": [
    {
     "name": "stdout",
     "output_type": "stream",
     "text": [
      "{'text': [\"Wall St. Bears Claw Back Into the Black (Reuters) Reuters - Short-sellers, Wall Street's dwindling\\\\band of ultra-cynics, are seeing green again.\", 'Carlyle Looks Toward Commercial Aerospace (Reuters) Reuters - Private investment firm Carlyle Group,\\\\which has a reputation for making well-timed and occasionally\\\\controversial plays in the defense industry, has quietly placed\\\\its bets on another part of the market.', \"Oil and Economy Cloud Stocks' Outlook (Reuters) Reuters - Soaring crude prices plus worries\\\\about the economy and the outlook for earnings are expected to\\\\hang over the stock market next week during the depth of the\\\\summer doldrums.\", 'Iraq Halts Oil Exports from Main Southern Pipeline (Reuters) Reuters - Authorities have halted oil export\\\\flows from the main pipeline in southern Iraq after\\\\intelligence showed a rebel militia could strike\\\\infrastructure, an oil official said on Saturday.', 'Oil prices soar to all-time record, posing new menace to US economy (AFP) AFP - Tearaway world oil prices, toppling records and straining wallets, present a new economic menace barely three months before the US presidential elections.', 'Stocks End Up, But Near Year Lows (Reuters) Reuters - Stocks ended slightly higher on Friday\\\\but stayed near lows for the year as oil prices surged past  #36;46\\\\a barrel, offsetting a positive outlook from computer maker\\\\Dell Inc. (DELL.O)', \"Money Funds Fell in Latest Week (AP) AP - Assets of the nation's retail money market mutual funds fell by  #36;1.17 billion in the latest week to  #36;849.98 trillion, the Investment Company Institute said Thursday.\", 'Fed minutes show dissent over inflation (USATODAY.com) USATODAY.com - Retail sales bounced back a bit in July, and new claims for jobless benefits fell last week, the government said Thursday, indicating the economy is improving from a midsummer slump.', 'Safety Net (Forbes.com) Forbes.com - After earning a PH.D. in Sociology, Danny Bazil Riley started to work as the general manager at a commercial real estate firm at an annual base salary of  #36;70,000. Soon after, a financial planner stopped by his desk to drop off brochures about insurance benefits available through his employer. But, at 32, \"buying insurance was the furthest thing from my mind,\" says Riley.', \"Wall St. Bears Claw Back Into the Black  NEW YORK (Reuters) - Short-sellers, Wall Street's dwindling  band of ultra-cynics, are seeing green again.\", \"Oil and Economy Cloud Stocks' Outlook  NEW YORK (Reuters) - Soaring crude prices plus worries  about the economy and the outlook for earnings are expected to  hang over the stock market next week during the depth of the  summer doldrums.\", \"No Need for OPEC to Pump More-Iran Gov  TEHRAN (Reuters) - OPEC can do nothing to douse scorching  oil prices when markets are already oversupplied by 2.8 million  barrels per day (bpd) of crude, Iran's OPEC governor said  Saturday, warning that prices could fall sharply.\", 'Non-OPEC Nations Should Up Output-Purnomo  JAKARTA (Reuters) - Non-OPEC oil exporters should consider  increasing output to cool record crude prices, OPEC President  Purnomo Yusgiantoro said on Sunday.', \"Google IPO Auction Off to Rocky Start  WASHINGTON/NEW YORK (Reuters) - The auction for Google  Inc.'s highly anticipated initial public offering got off to a  rocky start on Friday after the Web search company sidestepped  a bullet from U.S. securities regulators.\", \"Dollar Falls Broadly on Record Trade Gap  NEW YORK (Reuters) - The dollar tumbled broadly on Friday  after data showing a record U.S. trade deficit in June cast  fresh doubts on the economy's recovery and its ability to draw  foreign capital to fund the growing gap.\", \"Rescuing an Old Saver If you think you may need to help your elderly relatives with their finances, don't be shy about having the money talk -- soon.\", 'Kids Rule for Back-to-School The purchasing power of kids is a big part of why the back-to-school season has become such a huge marketing phenomenon.', \"In a Down Market, Head Toward Value Funds There is little cause for celebration in the stock market these days, but investors in value-focused mutual funds have reason to feel a bit smug -- if only because they've lost less than the folks who stuck with growth.\", 'US trade deficit swells in June The US trade deficit has exploded 19 to a record \\\\$55.8bn as oil costs drove imports higher, according to a latest figures.', \"Shell 'could be target for Total' Oil giant Shell could be bracing itself for a takeover attempt, possibly from French rival Total, a  press report claims.\"], 'label': [2, 2, 2, 2, 2, 2, 2, 2, 2, 2, 2, 2, 2, 2, 2, 2, 2, 2, 2, 2]}\n"
     ]
    }
   ],
   "source": [
    "print(dataset[\"train\"][0:20])"
   ]
  },
  {
   "cell_type": "code",
   "execution_count": 12,
   "id": "1e43259a-284d-4ff9-842f-9988a16b8738",
   "metadata": {},
   "outputs": [
    {
     "name": "stdout",
     "output_type": "stream",
     "text": [
      "DatasetInfo(description='', citation='', homepage='', license='', features={'text': Value('string'), 'label': ClassLabel(names=['World', 'Sports', 'Business', 'Sci/Tech'])}, post_processed=None, supervised_keys=None, builder_name='parquet', dataset_name='ag_news', config_name='default', version=0.0.0, splits={'train': SplitInfo(name='train', num_bytes=29832303, num_examples=120000, shard_lengths=None, dataset_name='ag_news'), 'test': SplitInfo(name='test', num_bytes=1880424, num_examples=7600, shard_lengths=None, dataset_name='ag_news')}, download_checksums={'hf://datasets/ag_news@eb185aade064a813bc0b7f42de02595523103ca4/data/train-00000-of-00001.parquet': {'num_bytes': 18585438, 'checksum': None}, 'hf://datasets/ag_news@eb185aade064a813bc0b7f42de02595523103ca4/data/test-00000-of-00001.parquet': {'num_bytes': 1234829, 'checksum': None}}, download_size=19820267, post_processing_size=None, dataset_size=31712727, size_in_bytes=51532994)\n",
      "                                                                                                                                                                                                                                                                         text  \\\n",
      "0                                                                                                                            wall st. bears claw back into the black (reuters) reuters - short-sellers, wall street's dwindling\\band of ultra-cynics, are seeing green again.   \n",
      "1  carlyle looks toward commercial aerospace (reuters) reuters - private investment firm carlyle group,\\which has a reputation for making well-timed and occasionally\\controversial plays in the defense industry, has quietly placed\\its bets on another part of the market.   \n",
      "2                                    oil and economy cloud stocks' outlook (reuters) reuters - soaring crude prices plus worries\\about the economy and the outlook for earnings are expected to\\hang over the stock market next week during the depth of the\\summer doldrums.   \n",
      "3            iraq halts oil exports from main southern pipeline (reuters) reuters - authorities have halted oil export\\flows from the main pipeline in southern iraq after\\intelligence showed a rebel militia could strike\\infrastructure, an oil official said on saturday.   \n",
      "4                                  oil prices soar to all-time record, posing new menace to us economy (afp) afp - tearaway world oil prices, toppling records and straining wallets, present a new economic menace barely three months before the us presidential elections.   \n",
      "\n",
      "   label  \n",
      "0      2  \n",
      "1      2  \n",
      "2      2  \n",
      "3      2  \n",
      "4      2  \n"
     ]
    }
   ],
   "source": [
    "df_train1=dataset[\"train\"].to_pandas()\n",
    "df_test1=dataset[\"test\"].to_pandas()\n",
    "#get an overview of dataset and its content\n",
    "print(dataset['train'].info)\n",
    "print(df_train.head())"
   ]
  },
  {
   "cell_type": "code",
   "execution_count": 71,
   "id": "896ddb77-e558-4e6e-9d97-2c1247321551",
   "metadata": {},
   "outputs": [
    {
     "name": "stdout",
     "output_type": "stream",
     "text": [
      "label\n",
      "2    30000\n",
      "3    30000\n",
      "1    30000\n",
      "0    30000\n",
      "Name: count, dtype: int64\n"
     ]
    }
   ],
   "source": [
    "#the classes are balanced\n",
    "print(df_train['label'].value_counts())"
   ]
  },
  {
   "cell_type": "code",
   "execution_count": 9,
   "id": "27310482-a185-439f-9df7-3a055204b6fd",
   "metadata": {},
   "outputs": [
    {
     "name": "stdout",
     "output_type": "stream",
     "text": [
      "                                                                                                                                                                                                                                                                         text  \\\n",
      "0                                                                                                                            wall st. bears claw back into the black (reuters) reuters - short-sellers, wall street's dwindling\\band of ultra-cynics, are seeing green again.   \n",
      "1  carlyle looks toward commercial aerospace (reuters) reuters - private investment firm carlyle group,\\which has a reputation for making well-timed and occasionally\\controversial plays in the defense industry, has quietly placed\\its bets on another part of the market.   \n",
      "2                                    oil and economy cloud stocks' outlook (reuters) reuters - soaring crude prices plus worries\\about the economy and the outlook for earnings are expected to\\hang over the stock market next week during the depth of the\\summer doldrums.   \n",
      "3            iraq halts oil exports from main southern pipeline (reuters) reuters - authorities have halted oil export\\flows from the main pipeline in southern iraq after\\intelligence showed a rebel militia could strike\\infrastructure, an oil official said on saturday.   \n",
      "4                                  oil prices soar to all-time record, posing new menace to us economy (afp) afp - tearaway world oil prices, toppling records and straining wallets, present a new economic menace barely three months before the us presidential elections.   \n",
      "\n",
      "   label  \n",
      "0      2  \n",
      "1      2  \n",
      "2      2  \n",
      "3      2  \n",
      "4      2  \n"
     ]
    }
   ],
   "source": [
    "df_train[\"text\"]=df_train1[\"text\"].str.lower()\n",
    "df_test[\"text\"]=df_test1[\"text\"].str.lower()\n",
    "print(df_train.head())"
   ]
  },
  {
   "cell_type": "code",
   "execution_count": 10,
   "id": "ff0c7761-26a9-4eb1-80c9-c0b49b56c1d2",
   "metadata": {},
   "outputs": [
    {
     "name": "stdout",
     "output_type": "stream",
     "text": [
      "0                                                                                                                              wall st. bears claw back into the black (reuters) reuters - short-sellers, wall street's dwindling\\band of ultra-cynics, are seeing green again.\n",
      "1    carlyle looks toward commercial aerospace (reuters) reuters - private investment firm carlyle group,\\which has a reputation for making well-timed and occasionally\\controversial plays in the defense industry, has quietly placed\\its bets on another part of the market.\n",
      "2                                      oil and economy cloud stocks' outlook (reuters) reuters - soaring crude prices plus worries\\about the economy and the outlook for earnings are expected to\\hang over the stock market next week during the depth of the\\summer doldrums.\n",
      "3              iraq halts oil exports from main southern pipeline (reuters) reuters - authorities have halted oil export\\flows from the main pipeline in southern iraq after\\intelligence showed a rebel militia could strike\\infrastructure, an oil official said on saturday.\n",
      "4                                    oil prices soar to all-time record, posing new menace to us economy (afp) afp - tearaway world oil prices, toppling records and straining wallets, present a new economic menace barely three months before the us presidential elections.\n",
      "Name: text, dtype: object\n"
     ]
    }
   ],
   "source": [
    "print(df_train[\"text\"][0:5])"
   ]
  },
  {
   "cell_type": "code",
   "execution_count": 19,
   "id": "f0f2b11d-ac24-4990-af9a-65447904f49f",
   "metadata": {},
   "outputs": [
    {
     "name": "stdout",
     "output_type": "stream",
     "text": [
      "                                                                                                                                                                                                                                                                         text  \\\n",
      "0                                                                                                                            wall st  bears claw back into the black  reuters  reuters   short sellers  wall street s dwindling band of ultra cynics  are seeing green again    \n",
      "1  carlyle looks toward commercial aerospace  reuters  reuters   private investment firm carlyle group  which has a reputation for making well timed and occasionally controversial plays in the defense industry  has quietly placed its bets on another part of the market    \n",
      "2                                    oil and economy cloud stocks  outlook  reuters  reuters   soaring crude prices plus worries about the economy and the outlook for earnings are expected to hang over the stock market next week during the depth of the summer doldrums    \n",
      "3            iraq halts oil exports from main southern pipeline  reuters  reuters   authorities have halted oil export flows from the main pipeline in southern iraq after intelligence showed a rebel militia could strike infrastructure  an oil official said on saturday    \n",
      "4                                  oil prices soar to all time record  posing new menace to us economy  afp  afp   tearaway world oil prices  toppling records and straining wallets  present a new economic menace barely three months before the us presidential elections    \n",
      "\n",
      "   label  \n",
      "0      2  \n",
      "1      2  \n",
      "2      2  \n",
      "3      2  \n",
      "4      2  \n"
     ]
    }
   ],
   "source": [
    "#remove all other characters and keep only alphabet\n",
    "#numbers were removed due to the fact that they would represent different encodings  \n",
    "#would remove also news outlets as they might affect the resultbut due to \n",
    "#the different structures of text proved more difficult so didnt do it\n",
    "df_train[\"text\"]=df_train[\"text\"].str.replace(r'[^a-z\\s]', ' ', regex=True)\n",
    "df_test[\"text\"]=df_test[\"text\"].str.replace(r'[^a-z\\s]', ' ', regex=True)\n",
    "print(df_train.head())"
   ]
  },
  {
   "cell_type": "code",
   "execution_count": 18,
   "id": "6ac12d09-9ba8-4cbb-b535-bf05d94a3419",
   "metadata": {},
   "outputs": [
    {
     "name": "stdout",
     "output_type": "stream",
     "text": [
      "                                                                                                        text  \\\n",
      "27308   grocer takes a tumble labor problems and debt retirement contribute to kroger's second-quarter slip.   \n",
      "44886   apple to open 'borderless' euro music store questions company's 'one country, one store' restriction   \n",
      "110719  amazon's 'morning nightmare' lasts 11 days, and counting peak-time woes bedevil merchants, customers   \n",
      "103555  lakers' buss wants to make up with o'neal (ap) ap - hey, shaq, jerry buss wants to be buddies again.   \n",
      "105338  sony cyber-shot dsc p150 &lt;strong&gt;review&lt;/strong&gt; fast, inexpensive and highly pocketable   \n",
      "\n",
      "        label  \n",
      "27308       2  \n",
      "44886       3  \n",
      "110719      3  \n",
      "103555      1  \n",
      "105338      3  \n",
      "\n",
      "Empty strings :\n",
      " 0\n",
      "                                                                                                                                                                                                                                                                         text  \\\n",
      "0                                                                                                                            wall st. bears claw back into the black (reuters) reuters - short-sellers, wall street's dwindling\\band of ultra-cynics, are seeing green again.   \n",
      "1  carlyle looks toward commercial aerospace (reuters) reuters - private investment firm carlyle group,\\which has a reputation for making well-timed and occasionally\\controversial plays in the defense industry, has quietly placed\\its bets on another part of the market.   \n",
      "2                                    oil and economy cloud stocks' outlook (reuters) reuters - soaring crude prices plus worries\\about the economy and the outlook for earnings are expected to\\hang over the stock market next week during the depth of the\\summer doldrums.   \n",
      "3            iraq halts oil exports from main southern pipeline (reuters) reuters - authorities have halted oil export\\flows from the main pipeline in southern iraq after\\intelligence showed a rebel militia could strike\\infrastructure, an oil official said on saturday.   \n",
      "4                                  oil prices soar to all-time record, posing new menace to us economy (afp) afp - tearaway world oil prices, toppling records and straining wallets, present a new economic menace barely three months before the us presidential elections.   \n",
      "\n",
      "   label  \n",
      "0      2  \n",
      "1      2  \n",
      "2      2  \n",
      "3      2  \n",
      "4      2  \n"
     ]
    }
   ],
   "source": [
    "import pandas as pd\n",
    "#did this so i could see whole content\n",
    "pd.set_option('display.max_colwidth', None)\n",
    "#check if any are shorter than certain length since they may be invalid\n",
    "empty = (df_train[\"text\"].str.len() <= 30)\n",
    "#Checked to see which ones are shorter and see if they make sense\n",
    "df_sorted = df_train.sort_values(by=\"text\", key=lambda x: x.str.len())\n",
    "print(df_sorted.head(5))\n",
    "print(\"\\nEmpty strings :\\n\", empty.sum())\n",
    "print(df_train.head())"
   ]
  },
  {
   "cell_type": "code",
   "execution_count": 57,
   "id": "f3a5167b-b979-4c2e-b930-6d752469a52f",
   "metadata": {},
   "outputs": [
    {
     "name": "stdout",
     "output_type": "stream",
     "text": [
      "Requirement already satisfied: spacy in c:\\users\\my computer\\.conda\\envs\\myenv\\lib\\site-packages (3.8.7)\n",
      "Requirement already satisfied: spacy-legacy<3.1.0,>=3.0.11 in c:\\users\\my computer\\.conda\\envs\\myenv\\lib\\site-packages (from spacy) (3.0.12)\n",
      "Requirement already satisfied: spacy-loggers<2.0.0,>=1.0.0 in c:\\users\\my computer\\.conda\\envs\\myenv\\lib\\site-packages (from spacy) (1.0.5)\n",
      "Requirement already satisfied: murmurhash<1.1.0,>=0.28.0 in c:\\users\\my computer\\.conda\\envs\\myenv\\lib\\site-packages (from spacy) (1.0.13)\n",
      "Requirement already satisfied: cymem<2.1.0,>=2.0.2 in c:\\users\\my computer\\.conda\\envs\\myenv\\lib\\site-packages (from spacy) (2.0.11)\n",
      "Requirement already satisfied: preshed<3.1.0,>=3.0.2 in c:\\users\\my computer\\.conda\\envs\\myenv\\lib\\site-packages (from spacy) (3.0.10)\n",
      "Requirement already satisfied: thinc<8.4.0,>=8.3.4 in c:\\users\\my computer\\.conda\\envs\\myenv\\lib\\site-packages (from spacy) (8.3.6)\n",
      "Requirement already satisfied: wasabi<1.2.0,>=0.9.1 in c:\\users\\my computer\\.conda\\envs\\myenv\\lib\\site-packages (from spacy) (1.1.3)\n",
      "Requirement already satisfied: srsly<3.0.0,>=2.4.3 in c:\\users\\my computer\\.conda\\envs\\myenv\\lib\\site-packages (from spacy) (2.5.1)\n",
      "Requirement already satisfied: catalogue<2.1.0,>=2.0.6 in c:\\users\\my computer\\.conda\\envs\\myenv\\lib\\site-packages (from spacy) (2.0.10)\n",
      "Requirement already satisfied: weasel<0.5.0,>=0.1.0 in c:\\users\\my computer\\.conda\\envs\\myenv\\lib\\site-packages (from spacy) (0.4.1)\n",
      "Requirement already satisfied: typer<1.0.0,>=0.3.0 in c:\\users\\my computer\\.conda\\envs\\myenv\\lib\\site-packages (from spacy) (0.19.2)\n",
      "Requirement already satisfied: tqdm<5.0.0,>=4.38.0 in c:\\users\\my computer\\.conda\\envs\\myenv\\lib\\site-packages (from spacy) (4.67.1)\n",
      "Requirement already satisfied: numpy>=1.19.0 in c:\\users\\my computer\\.conda\\envs\\myenv\\lib\\site-packages (from spacy) (2.1.3)\n",
      "Requirement already satisfied: requests<3.0.0,>=2.13.0 in c:\\users\\my computer\\.conda\\envs\\myenv\\lib\\site-packages (from spacy) (2.32.3)\n",
      "Requirement already satisfied: pydantic!=1.8,!=1.8.1,<3.0.0,>=1.7.4 in c:\\users\\my computer\\.conda\\envs\\myenv\\lib\\site-packages (from spacy) (2.11.9)\n",
      "Requirement already satisfied: jinja2 in c:\\users\\my computer\\.conda\\envs\\myenv\\lib\\site-packages (from spacy) (3.1.6)\n",
      "Requirement already satisfied: setuptools in c:\\users\\my computer\\.conda\\envs\\myenv\\lib\\site-packages (from spacy) (78.1.1)\n",
      "Requirement already satisfied: packaging>=20.0 in c:\\users\\my computer\\.conda\\envs\\myenv\\lib\\site-packages (from spacy) (25.0)\n",
      "Requirement already satisfied: langcodes<4.0.0,>=3.2.0 in c:\\users\\my computer\\.conda\\envs\\myenv\\lib\\site-packages (from spacy) (3.5.0)\n",
      "Requirement already satisfied: language-data>=1.2 in c:\\users\\my computer\\.conda\\envs\\myenv\\lib\\site-packages (from langcodes<4.0.0,>=3.2.0->spacy) (1.3.0)\n",
      "Requirement already satisfied: annotated-types>=0.6.0 in c:\\users\\my computer\\.conda\\envs\\myenv\\lib\\site-packages (from pydantic!=1.8,!=1.8.1,<3.0.0,>=1.7.4->spacy) (0.7.0)\n",
      "Requirement already satisfied: pydantic-core==2.33.2 in c:\\users\\my computer\\.conda\\envs\\myenv\\lib\\site-packages (from pydantic!=1.8,!=1.8.1,<3.0.0,>=1.7.4->spacy) (2.33.2)\n",
      "Requirement already satisfied: typing-extensions>=4.12.2 in c:\\users\\my computer\\.conda\\envs\\myenv\\lib\\site-packages (from pydantic!=1.8,!=1.8.1,<3.0.0,>=1.7.4->spacy) (4.13.2)\n",
      "Requirement already satisfied: typing-inspection>=0.4.0 in c:\\users\\my computer\\.conda\\envs\\myenv\\lib\\site-packages (from pydantic!=1.8,!=1.8.1,<3.0.0,>=1.7.4->spacy) (0.4.2)\n",
      "Requirement already satisfied: charset-normalizer<4,>=2 in c:\\users\\my computer\\.conda\\envs\\myenv\\lib\\site-packages (from requests<3.0.0,>=2.13.0->spacy) (3.4.2)\n",
      "Requirement already satisfied: idna<4,>=2.5 in c:\\users\\my computer\\.conda\\envs\\myenv\\lib\\site-packages (from requests<3.0.0,>=2.13.0->spacy) (3.10)\n",
      "Requirement already satisfied: urllib3<3,>=1.21.1 in c:\\users\\my computer\\.conda\\envs\\myenv\\lib\\site-packages (from requests<3.0.0,>=2.13.0->spacy) (2.4.0)\n",
      "Requirement already satisfied: certifi>=2017.4.17 in c:\\users\\my computer\\.conda\\envs\\myenv\\lib\\site-packages (from requests<3.0.0,>=2.13.0->spacy) (2025.4.26)\n",
      "Requirement already satisfied: blis<1.4.0,>=1.3.0 in c:\\users\\my computer\\.conda\\envs\\myenv\\lib\\site-packages (from thinc<8.4.0,>=8.3.4->spacy) (1.3.0)\n",
      "Requirement already satisfied: confection<1.0.0,>=0.0.1 in c:\\users\\my computer\\.conda\\envs\\myenv\\lib\\site-packages (from thinc<8.4.0,>=8.3.4->spacy) (0.1.5)\n",
      "Requirement already satisfied: colorama in c:\\users\\my computer\\.conda\\envs\\myenv\\lib\\site-packages (from tqdm<5.0.0,>=4.38.0->spacy) (0.4.6)\n",
      "Requirement already satisfied: click>=8.0.0 in c:\\users\\my computer\\.conda\\envs\\myenv\\lib\\site-packages (from typer<1.0.0,>=0.3.0->spacy) (8.3.0)\n",
      "Requirement already satisfied: shellingham>=1.3.0 in c:\\users\\my computer\\.conda\\envs\\myenv\\lib\\site-packages (from typer<1.0.0,>=0.3.0->spacy) (1.5.4)\n",
      "Requirement already satisfied: rich>=10.11.0 in c:\\users\\my computer\\.conda\\envs\\myenv\\lib\\site-packages (from typer<1.0.0,>=0.3.0->spacy) (14.0.0)\n",
      "Requirement already satisfied: cloudpathlib<1.0.0,>=0.7.0 in c:\\users\\my computer\\.conda\\envs\\myenv\\lib\\site-packages (from weasel<0.5.0,>=0.1.0->spacy) (0.22.0)\n",
      "Requirement already satisfied: smart-open<8.0.0,>=5.2.1 in c:\\users\\my computer\\.conda\\envs\\myenv\\lib\\site-packages (from weasel<0.5.0,>=0.1.0->spacy) (7.3.1)\n",
      "Requirement already satisfied: wrapt in c:\\users\\my computer\\.conda\\envs\\myenv\\lib\\site-packages (from smart-open<8.0.0,>=5.2.1->weasel<0.5.0,>=0.1.0->spacy) (1.17.2)\n",
      "Requirement already satisfied: marisa-trie>=1.1.0 in c:\\users\\my computer\\.conda\\envs\\myenv\\lib\\site-packages (from language-data>=1.2->langcodes<4.0.0,>=3.2.0->spacy) (1.3.1)\n",
      "Requirement already satisfied: markdown-it-py>=2.2.0 in c:\\users\\my computer\\.conda\\envs\\myenv\\lib\\site-packages (from rich>=10.11.0->typer<1.0.0,>=0.3.0->spacy) (3.0.0)\n",
      "Requirement already satisfied: pygments<3.0.0,>=2.13.0 in c:\\users\\my computer\\.conda\\envs\\myenv\\lib\\site-packages (from rich>=10.11.0->typer<1.0.0,>=0.3.0->spacy) (2.19.1)\n",
      "Requirement already satisfied: mdurl~=0.1 in c:\\users\\my computer\\.conda\\envs\\myenv\\lib\\site-packages (from markdown-it-py>=2.2.0->rich>=10.11.0->typer<1.0.0,>=0.3.0->spacy) (0.1.2)\n",
      "Requirement already satisfied: MarkupSafe>=2.0 in c:\\users\\my computer\\.conda\\envs\\myenv\\lib\\site-packages (from jinja2->spacy) (3.0.2)\n",
      "Collecting en-core-web-sm==3.8.0\n",
      "  Using cached https://github.com/explosion/spacy-models/releases/download/en_core_web_sm-3.8.0/en_core_web_sm-3.8.0-py3-none-any.whl (12.8 MB)\n",
      "\u001b[38;5;2m[+] Download and installation successful\u001b[0m\n",
      "You can now load the package via spacy.load('en_core_web_sm')\n",
      "Requirement already satisfied: tqdm in c:\\users\\my computer\\.conda\\envs\\myenv\\lib\\site-packages (4.67.1)\n",
      "Requirement already satisfied: colorama in c:\\users\\my computer\\.conda\\envs\\myenv\\lib\\site-packages (from tqdm) (0.4.6)\n"
     ]
    },
    {
     "name": "stderr",
     "output_type": "stream",
     "text": [
      "[nltk_data] Downloading package stopwords to C:\\Users\\MY\n",
      "[nltk_data]     COMPUTER\\AppData\\Roaming\\nltk_data...\n",
      "[nltk_data]   Package stopwords is already up-to-date!\n"
     ]
    }
   ],
   "source": [
    "#if you dont have the following you need to install\n",
    "#!pip install nltk\n",
    "!pip install spacy\n",
    "!python -m spacy download en_core_web_sm\n",
    "!pip install tqdm\n",
    "\n",
    "import nltk\n",
    "from nltk.corpus import wordnet, stopwords\n",
    "from nltk.tokenize import word_tokenize\n",
    "from nltk.stem import WordNetLemmatizer\n",
    "from tqdm.notebook import tqdm\n",
    "\n",
    "import spacy\n",
    "import re\n",
    "\n",
    "nltk.download('stopwords')\n",
    "nlp = spacy.load(\"en_core_web_sm\")\n",
    "stop_words = set(stopwords.words('english'))\n",
    "#made functions so i wouldnt have to run them again each time\n",
    "def remove_stopwords(sentence):\n",
    "    words = sentence.split()\n",
    "    filtered = [w for w in words if w not in stop_words]\n",
    "    return \" \".join(filtered)\n",
    "    \n",
    "def lemmatize_texts(texts, batch_size=50):\n",
    "    lemmatized_texts = []\n",
    "    for doc in tqdm(nlp.pipe(texts, batch_size=batch_size), total=len(texts)):\n",
    "        lemmatized_texts.append(\" \".join([token.lemma_ for token in doc]))\n",
    "    return lemmatized_texts"
   ]
  },
  {
   "cell_type": "code",
   "execution_count": 58,
   "id": "8a7c25a9-5832-4d9c-89f8-6d9f86f65a88",
   "metadata": {},
   "outputs": [
    {
     "name": "stdout",
     "output_type": "stream",
     "text": [
      "                                                                                                                                                                                                                     text  \\\n",
      "0                                                                                                        wall st bears claw back black reuters reuters short sellers wall street dwindling band ultra cynics seeing green   \n",
      "1  carlyle looks toward commercial aerospace reuters reuters private investment firm carlyle group reputation making well timed occasionally controversial plays defense industry quietly placed bets another part market   \n",
      "2                                                  oil economy cloud stocks outlook reuters reuters soaring crude prices plus worries economy outlook earnings expected hang stock market next week depth summer doldrums   \n",
      "3  iraq halts oil exports main southern pipeline reuters reuters authorities halted oil export flows main pipeline southern iraq intelligence showed rebel militia could strike infrastructure oil official said saturday   \n",
      "4                 oil prices soar time record posing new menace us economy afp afp tearaway world oil prices toppling records straining wallets present new economic menace barely three months us presidential elections   \n",
      "\n",
      "   label  \\\n",
      "0      2   \n",
      "1      2   \n",
      "2      2   \n",
      "3      2   \n",
      "4      2   \n",
      "\n",
      "                                                                                                                                                                                                   text_lemmatized  \n",
      "0                                                                                                         wall st bear claw back black reuters reuters short seller wall street dwindle band ultra cynic see green  \n",
      "1  carlyle look toward commercial aerospace reuters reuters private investment firm carlyle group reputation make well time occasionally controversial play defense industry quietly place bet another part market  \n",
      "2                                                    oil economy cloud stock outlook reuters reuters soar crude price plus worry economy outlook earnings expect hang stock market next week depth summer doldrums  \n",
      "3     iraq halt oil export main southern pipeline reuters reuters authority halt oil export flow main pipeline southern iraq intelligence show rebel militia could strike infrastructure oil official say saturday  \n",
      "4                       oil price soar time record pose new menace u economy afp afp tearaway world oil price toppling record strain wallet present new economic menace barely three month u presidential election  \n"
     ]
    }
   ],
   "source": [
    "\n",
    "df_train[\"text\"] = df_train[\"text\"].apply(remove_stopwords)\n",
    "print(df_train.head())"
   ]
  },
  {
   "cell_type": "code",
   "execution_count": 59,
   "id": "755e3b29-c545-4198-975a-f0cb962384bc",
   "metadata": {},
   "outputs": [
    {
     "data": {
      "application/vnd.jupyter.widget-view+json": {
       "model_id": "3699fd4dad3a492cb9ca3ce5bb21db2d",
       "version_major": 2,
       "version_minor": 0
      },
      "text/plain": [
       "  0%|          | 0/120000 [00:00<?, ?it/s]"
      ]
     },
     "metadata": {},
     "output_type": "display_data"
    }
   ],
   "source": [
    "df_train['text_lemmatized'] = lemmatize_texts(df_train['text'].tolist())"
   ]
  },
  {
   "cell_type": "code",
   "execution_count": 60,
   "id": "c7508423-a097-4563-bab0-a01eb44d5ed4",
   "metadata": {},
   "outputs": [
    {
     "name": "stdout",
     "output_type": "stream",
     "text": [
      "0                                                                                                           wall st bears claw back black reuters reuters short sellers wall street dwindle band ultra cynic see green\n",
      "1    carlyle look toward commercial aerospace reuters reuters private investment firm carlyle group reputation making well time occasionally controversial play defense industry quietly place bet another part market\n",
      "2                                                          oil economy cloud stock outlook reuters reuters soar crude price plus worry economy outlook earning expect hang stock market next week depth summer doldrum\n",
      "3           iraq halt oil export main southern pipeline reuter reuter authority halt oil export flow main pipeline southern iraq intelligence show rebel militia could strike infrastructure oil official say saturday\n",
      "4                           oil price soar time record pose new menace we economy afp afp tearaway world oil price topple record strain wallet present new economic menace barely three month we presidential election\n",
      "Name: text_lemmatized, dtype: object\n"
     ]
    }
   ],
   "source": [
    "#perform lemmatizing\n",
    "print(df_train[\"text_lemmatized\"].head())"
   ]
  },
  {
   "cell_type": "code",
   "execution_count": 61,
   "id": "190cc0d4-f79a-4e43-9b08-d47cac81bee3",
   "metadata": {},
   "outputs": [
    {
     "data": {
      "application/vnd.jupyter.widget-view+json": {
       "model_id": "cece8c4e18b94b1cae31893faa85c3b0",
       "version_major": 2,
       "version_minor": 0
      },
      "text/plain": [
       "  0%|          | 0/7600 [00:00<?, ?it/s]"
      ]
     },
     "metadata": {},
     "output_type": "display_data"
    }
   ],
   "source": [
    "df_test[\"text\"] = df_test[\"text\"].apply(remove_stopwords)\n",
    "df_test[\"text_lemmatized\"]=lemmatize_texts(df_test['text'].tolist())"
   ]
  },
  {
   "cell_type": "code",
   "execution_count": 65,
   "id": "8e188f04-fafc-42b4-aa01-452811b85a59",
   "metadata": {},
   "outputs": [],
   "source": [
    "#perform tfIDF\n",
    "from sklearn.feature_extraction.text import TfidfVectorizer\n",
    "\n",
    "# Initialize TF-IDF Vectorizer\n",
    "tfidf_vectorizer = TfidfVectorizer(\n",
    "    # remove stopwords\n",
    "    ngram_range=(1, 2)        # use unigrams and bigrams only\n",
    ")\n",
    "\n",
    "# Fit and transform the lemmatized text column\n",
    "X_train = tfidf_vectorizer.fit_transform(df_train['text_lemmatized'])\n",
    "X_test = tfidf_vectorizer.transform(df_test['text_lemmatized'])\n",
    "\n"
   ]
  },
  {
   "cell_type": "code",
   "execution_count": 72,
   "id": "8addfb08-1b33-4216-8ac8-f4c47271e089",
   "metadata": {},
   "outputs": [
    {
     "name": "stdout",
     "output_type": "stream",
     "text": [
      "            word    tfidf_sum\n",
      "968927       say  1110.094042\n",
      "736607       new   954.266423\n",
      "51107         ap   904.802301\n",
      "933203   reuters   739.032309\n",
      "1264486     year   721.213930\n",
      "478237        gt   705.275096\n",
      "646249        lt   703.485487\n",
      "882573      quot   592.963317\n",
      "222624   company   560.019814\n",
      "1174395      two   558.769236\n",
      "410063     first   542.536872\n",
      "763325       oil   519.973279\n",
      "1255476    world   514.930897\n",
      "646283     lt gt   505.181288\n",
      "443567      game   487.726324\n",
      "767034       one   473.020706\n",
      "919154    report   471.143897\n",
      "852205     price   455.607756\n",
      "51224      ap ap   441.883095\n",
      "1071815    stock   435.566774\n"
     ]
    }
   ],
   "source": [
    "# checks to see which are the top words acros dataset some of them are topic specific\n",
    "# like oil stock world but others are meaningless as single words\n",
    "import numpy as np\n",
    "\n",
    "feature_names = tfidf_vectorizer.get_feature_names_out()\n",
    "tfidf_sum = np.array(X_train.sum(axis=0)).flatten()\n",
    "tfidf_df = pd.DataFrame({\n",
    "    'word': feature_names,\n",
    "    'tfidf_sum': tfidf_sum\n",
    "})\n",
    "top_words = tfidf_df.sort_values(by='tfidf_sum', ascending=False).head(20)\n",
    "print(top_words)"
   ]
  },
  {
   "cell_type": "code",
   "execution_count": 77,
   "id": "da352f4a-c03a-4858-a85c-464d8378c211",
   "metadata": {},
   "outputs": [
    {
     "data": {
      "text/plain": [
       "['my_vars.joblib']"
      ]
     },
     "execution_count": 77,
     "metadata": {},
     "output_type": "execute_result"
    }
   ],
   "source": [
    "#saveing files so we dont have to calculate again\n",
    "import joblib\n",
    "\n",
    "to_save = {\n",
    "    \"df_train\": df_train,\n",
    "    \"df_test\": df_test,\n",
    "    \"tfidf_vectorizer\": tfidf_vectorizer,\n",
    "\n",
    "}\n",
    "\n",
    "\n",
    "joblib.dump(to_save, \"my_vars.joblib\")"
   ]
  }
 ],
 "metadata": {
  "kernelspec": {
   "display_name": "Python 3 (ipykernel)",
   "language": "python",
   "name": "python3"
  },
  "language_info": {
   "codemirror_mode": {
    "name": "ipython",
    "version": 3
   },
   "file_extension": ".py",
   "mimetype": "text/x-python",
   "name": "python",
   "nbconvert_exporter": "python",
   "pygments_lexer": "ipython3",
   "version": "3.10.16"
  }
 },
 "nbformat": 4,
 "nbformat_minor": 5
}
